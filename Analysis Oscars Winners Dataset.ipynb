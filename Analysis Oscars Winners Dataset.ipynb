{
 "cells": [
  {
   "cell_type": "code",
   "execution_count": null,
   "metadata": {},
   "outputs": [],
   "source": [
    "import numpy as np\n",
    "import pandas as pd\n",
    "import seaborn as sns \n",
    "import matplotlib.pyplot as plt"
   ]
  },
  {
   "cell_type": "code",
   "execution_count": null,
   "metadata": {},
   "outputs": [],
   "source": [
    "# load dataset \n",
    "data = pd.read_csv(\"Oscars-demographics-DFE.csv\", encoding='latin-1')"
   ]
  },
  {
   "cell_type": "code",
   "execution_count": null,
   "metadata": {},
   "outputs": [],
   "source": [
    "data.head()"
   ]
  },
  {
   "cell_type": "code",
   "execution_count": null,
   "metadata": {},
   "outputs": [],
   "source": [
    "print(\"Data shape : {} \".format(data.shape))\n",
    "print(\"****************\")\n",
    "print(\"Data Null Values : \\n{}\\n\".format(np.sum(data.isnull())))"
   ]
  },
  {
   "cell_type": "code",
   "execution_count": null,
   "metadata": {},
   "outputs": [],
   "source": [
    "# clean dataset\n",
    "data.drop(columns = ['_trusted_judgments', 'date_of_birth', 'date_of_birth:confidence','biourl','race_ethnicity_gold'], axis=1, inplace=True)"
   ]
  },
  {
   "cell_type": "code",
   "execution_count": null,
   "metadata": {},
   "outputs": [],
   "source": [
    "data.head()"
   ]
  },
  {
   "cell_type": "code",
   "execution_count": null,
   "metadata": {},
   "outputs": [],
   "source": [
    "plt.figure(figsize=(7, 5), dpi=80)\n",
    "plt.title(\"Unit State \")\n",
    "sns.countplot(x='_unit_state', data=data, palette='viridis')\n",
    "plt.show()"
   ]
  },
  {
   "cell_type": "code",
   "execution_count": null,
   "metadata": {},
   "outputs": [],
   "source": [
    "plt.figure(figsize=(9, 7), dpi=80)\n",
    "plt.title('Golden Unit State')\n",
    "plt.grid()\n",
    "data.groupby('_golden')['_unit_state'].value_counts().plot(kind='bar', color=['green', 'yellow'])\n",
    "plt.show()"
   ]
  },
  {
   "cell_type": "code",
   "execution_count": null,
   "metadata": {},
   "outputs": [],
   "source": [
    "plt.figure(figsize=(12, 9))\n",
    "plt.title('last Judgment unit state')\n",
    "data.groupby('_unit_state')['_last_judgment_at'].value_counts().plot(alpha=0.75, rot=0)\n",
    "plt.xlabel(\"\")"
   ]
  },
  {
   "cell_type": "code",
   "execution_count": null,
   "metadata": {},
   "outputs": [],
   "source": [
    "plt.figure(figsize=(9, 8), dpi=80)\n",
    "plt.title('Religions Oscars Winners')\n",
    "plt.grid()\n",
    "sns.countplot(y='religion',data=data, palette='viridis')\n",
    "plt.show()"
   ]
  },
  {
   "cell_type": "code",
   "execution_count": null,
   "metadata": {},
   "outputs": [],
   "source": [
    "plt.figure(figsize=(9, 7), dpi=80)\n",
    "plt.grid()\n",
    "plt.title('Sexual Orentation')\n",
    "sns.countplot(y='sexual_orientation', data=data, palette='viridis')\n",
    "plt.show()"
   ]
  },
  {
   "cell_type": "code",
   "execution_count": null,
   "metadata": {},
   "outputs": [],
   "source": [
    "plt.figure(figsize=(9, 7))\n",
    "plt.title('Sexual Oreintation Gold')\n",
    "data['sexual_orientation_gold'].value_counts().plot(kind='bar', alpha=0.7, rot=0, color=['red','blue'])\n",
    "plt.show()"
   ]
  },
  {
   "cell_type": "code",
   "execution_count": null,
   "metadata": {},
   "outputs": [],
   "source": [
    "data"
   ]
  },
  {
   "cell_type": "code",
   "execution_count": null,
   "metadata": {},
   "outputs": [],
   "source": [
    "\"\"\"\n",
    "religion_gold                    431\n",
    "sexual_orientation_gold \n",
    "\"\"\"\n",
    "\n",
    "plt.figure(figsize=(9, 7))\n",
    "plt.title('Religion Gold Sexual Orentation ')\n",
    "data.groupby('religion_gold')['sexual_orientation_gold'].value_counts().plot(kind='bar', alpha=0.7, rot=0, color='green')\n",
    "plt.show()"
   ]
  },
  {
   "cell_type": "code",
   "execution_count": null,
   "metadata": {},
   "outputs": [],
   "source": [
    "plt.figure(figsize=(9, 7), dpi=80)\n",
    "plt.title('Award')\n",
    "sns.countplot(y='award', data=data, palette='viridis')\n",
    "plt.show()"
   ]
  },
  {
   "cell_type": "code",
   "execution_count": null,
   "metadata": {},
   "outputs": [],
   "source": [
    "data.head()"
   ]
  },
  {
   "cell_type": "code",
   "execution_count": null,
   "metadata": {},
   "outputs": [],
   "source": [
    "plt.figure(figsize=(9, 7), dpi=90)\n",
    "plt.title('Bithplace Oscars winners')\n",
    "plt.grid()\n",
    "data['birthplace'].value_counts().sort_values(ascending=False)[:10].plot(kind='bar', color=['orange','green','red','pink','brown','blue'])\n",
    "plt.show()"
   ]
  },
  {
   "cell_type": "code",
   "execution_count": null,
   "metadata": {},
   "outputs": [],
   "source": [
    "plt.figure(figsize=(9, 7), dpi=80)\n",
    "plt.title('Race Ethnicity')\n",
    "sns.countplot(y='race_ethnicity', data=data, palette='viridis')\n",
    "plt.show()"
   ]
  }
 ],
 "metadata": {
  "kernelspec": {
   "display_name": "Python 3",
   "language": "python",
   "name": "python3"
  },
  "language_info": {
   "codemirror_mode": {
    "name": "ipython",
    "version": 3
   },
   "file_extension": ".py",
   "mimetype": "text/x-python",
   "name": "python",
   "nbconvert_exporter": "python",
   "pygments_lexer": "ipython3",
   "version": "3.7.4"
  }
 },
 "nbformat": 4,
 "nbformat_minor": 2
}
